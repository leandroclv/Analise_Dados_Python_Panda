{
 "cells": [
  {
   "cell_type": "code",
   "execution_count": 1,
   "id": "c8c8a21a",
   "metadata": {},
   "outputs": [
    {
     "name": "stdout",
     "output_type": "stream",
     "text": [
      "Hello World!!!\n",
      "Olá Mundo!!!\n"
     ]
    }
   ],
   "source": [
    "print('Hello World!!!')\n",
    "print('Olá Mundo!!!')"
   ]
  },
  {
   "cell_type": "code",
   "execution_count": 2,
   "id": "b01ed219",
   "metadata": {},
   "outputs": [
    {
     "name": "stdout",
     "output_type": "stream",
     "text": [
      "Aprendendo a linguagem Python\n"
     ]
    }
   ],
   "source": [
    "print('Aprendendo a linguagem Python')"
   ]
  },
  {
   "cell_type": "code",
   "execution_count": 3,
   "id": "e7f01f7d",
   "metadata": {},
   "outputs": [],
   "source": [
    "#Aprendendo \n",
    "# Python"
   ]
  },
  {
   "cell_type": "code",
   "execution_count": 4,
   "id": "cf089eed",
   "metadata": {},
   "outputs": [
    {
     "data": {
      "text/plain": [
       "' \\nPython é muito \\ndivertido\\n'"
      ]
     },
     "execution_count": 4,
     "metadata": {},
     "output_type": "execute_result"
    }
   ],
   "source": [
    "''' \n",
    "Python é muito \n",
    "divertido\n",
    "'''"
   ]
  },
  {
   "cell_type": "markdown",
   "id": "ff13106c",
   "metadata": {},
   "source": [
    "###Tipos de dados"
   ]
  },
  {
   "cell_type": "code",
   "execution_count": 5,
   "id": "3c7d200d",
   "metadata": {},
   "outputs": [],
   "source": [
    "#Pythonflix"
   ]
  },
  {
   "cell_type": "code",
   "execution_count": 6,
   "id": "e1a3b4df",
   "metadata": {},
   "outputs": [
    {
     "name": "stdout",
     "output_type": "stream",
     "text": [
      "Top Gun Maverick\n",
      "2023\n"
     ]
    }
   ],
   "source": [
    "name = 'Top Gun Maverick'\n",
    "year_launch = 2023\n",
    "note_movie = 9.5\n",
    "plan_included = False\n",
    "\n",
    "print(name)\n",
    "print(year_launch)"
   ]
  },
  {
   "cell_type": "code",
   "execution_count": 7,
   "id": "c9d5840b",
   "metadata": {},
   "outputs": [
    {
     "name": "stdout",
     "output_type": "stream",
     "text": [
      "<class 'str'>\n",
      "<class 'int'>\n",
      "<class 'float'>\n",
      "<class 'bool'>\n"
     ]
    }
   ],
   "source": [
    "print(type(name))\n",
    "print(type(year_launch))\n",
    "print(type(note_movie))\n",
    "print(type(plan_included))"
   ]
  },
  {
   "cell_type": "code",
   "execution_count": 11,
   "id": "eef4b9ec",
   "metadata": {},
   "outputs": [
    {
     "name": "stdout",
     "output_type": "stream",
     "text": [
      "Mario\n",
      "2024\n",
      "7.8\n"
     ]
    }
   ],
   "source": [
    "#Utilizando o input\n",
    "name = input('Digite o nome do filme:\\n') #\\n quebra a linha\n",
    "year_launch = input('Digite o ano de lançamento do filme:\\n') #O input tem como saída o tipo string\n",
    "note_movie = input('Digite a nota do filme:\\n') \n",
    "print(name)\n",
    "print(year_launch)\n",
    "print(note_movie)"
   ]
  },
  {
   "cell_type": "code",
   "execution_count": 12,
   "id": "f4fc7a5c",
   "metadata": {},
   "outputs": [
    {
     "name": "stdout",
     "output_type": "stream",
     "text": [
      "<class 'str'>\n",
      "<class 'str'>\n",
      "<class 'str'>\n"
     ]
    }
   ],
   "source": [
    "print(type(name))\n",
    "print(type(year_launch))\n",
    "print(type(note_movie))"
   ]
  },
  {
   "cell_type": "code",
   "execution_count": 14,
   "id": "877ea3c4",
   "metadata": {},
   "outputs": [
    {
     "name": "stdout",
     "output_type": "stream",
     "text": [
      "<class 'str'>\n",
      "<class 'int'>\n",
      "<class 'float'>\n"
     ]
    }
   ],
   "source": [
    "name = input('Digite o nome do filme:\\n') #\\n quebra a linha\n",
    "year_launch = int(input('Digite o ano de lançamento do filme:\\n')) #O input tem como saída o tipo string\n",
    "note_movie = float(input('Digite a nota do filme:\\n'))\n",
    "\n",
    "print(type(name))\n",
    "print(type(year_launch))\n",
    "print(type(note_movie))"
   ]
  },
  {
   "cell_type": "code",
   "execution_count": 15,
   "id": "c52f5cf2",
   "metadata": {},
   "outputs": [
    {
     "name": "stdout",
     "output_type": "stream",
     "text": [
      "Dados do filme\n",
      "========================\n",
      "Nome do filme:  Mario\n",
      "Ano de lançamento: 2020\n",
      "Nota do filme:  9.5\n"
     ]
    }
   ],
   "source": [
    "#Concatenação de valores\n",
    "#Alternativa 1\n",
    "print('Dados do filme')\n",
    "print('========================')\n",
    "print('Nome do filme: ', name)\n",
    "print('Ano de lançamento:', year_launch)\n",
    "print('Nota do filme: ', note_movie)"
   ]
  },
  {
   "cell_type": "code",
   "execution_count": 16,
   "id": "08180fb8",
   "metadata": {},
   "outputs": [
    {
     "name": "stdout",
     "output_type": "stream",
     "text": [
      "Nome do filme:  Mario \n",
      "Ano de lançamento:  2020 \n",
      "Nota do filme:  9.5\n"
     ]
    }
   ],
   "source": [
    "#Alternativa 2\n",
    "print('Nome do filme: ', name, '\\nAno de lançamento: ', year_launch, '\\nNota do filme: ', note_movie)"
   ]
  },
  {
   "cell_type": "code",
   "execution_count": 19,
   "id": "fca769f4",
   "metadata": {},
   "outputs": [
    {
     "name": "stdout",
     "output_type": "stream",
     "text": [
      "Nome do filme: Mario\n",
      "Ano de lançamento: 2020\n",
      "Nota do filme: 9.5\n",
      "\n"
     ]
    }
   ],
   "source": [
    "#Alternativa 3\n",
    "print(f'Nome do filme: {name}\\nAno de lançamento: {year_launch}\\nNota do filme: {note_movie}\\n')"
   ]
  },
  {
   "cell_type": "code",
   "execution_count": null,
   "id": "3b01cd77",
   "metadata": {},
   "outputs": [],
   "source": []
  }
 ],
 "metadata": {
  "kernelspec": {
   "display_name": "base",
   "language": "python",
   "name": "python3"
  },
  "language_info": {
   "codemirror_mode": {
    "name": "ipython",
    "version": 3
   },
   "file_extension": ".py",
   "mimetype": "text/x-python",
   "name": "python",
   "nbconvert_exporter": "python",
   "pygments_lexer": "ipython3",
   "version": "3.13.5"
  }
 },
 "nbformat": 4,
 "nbformat_minor": 5
}
