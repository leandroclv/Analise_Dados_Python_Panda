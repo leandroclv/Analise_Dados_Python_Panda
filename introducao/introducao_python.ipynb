{
 "cells": [
  {
   "cell_type": "code",
   "execution_count": 2,
   "id": "c8c8a21a",
   "metadata": {},
   "outputs": [
    {
     "name": "stdout",
     "output_type": "stream",
     "text": [
      "Hello World!!!\n",
      "Olá Mundo!!!\n"
     ]
    }
   ],
   "source": [
    "print('Hello World!!!')\n",
    "print('Olá Mundo!!!')"
   ]
  },
  {
   "cell_type": "code",
   "execution_count": 3,
   "id": "b01ed219",
   "metadata": {},
   "outputs": [
    {
     "name": "stdout",
     "output_type": "stream",
     "text": [
      "Aprendendo a linguagem Python\n"
     ]
    }
   ],
   "source": [
    "print('Aprendendo a linguagem Python')"
   ]
  },
  {
   "cell_type": "code",
   "execution_count": 5,
   "id": "e7f01f7d",
   "metadata": {},
   "outputs": [],
   "source": [
    "#Aprendendo \n",
    "# Python"
   ]
  },
  {
   "cell_type": "code",
   "execution_count": 6,
   "id": "cf089eed",
   "metadata": {},
   "outputs": [
    {
     "data": {
      "text/plain": [
       "' \\nPython é muito \\ndivertido\\n'"
      ]
     },
     "execution_count": 6,
     "metadata": {},
     "output_type": "execute_result"
    }
   ],
   "source": [
    "''' \n",
    "Python é muito \n",
    "divertido\n",
    "'''"
   ]
  },
  {
   "cell_type": "markdown",
   "id": "ff13106c",
   "metadata": {},
   "source": [
    "###Tipos de dados"
   ]
  },
  {
   "cell_type": "code",
   "execution_count": null,
   "id": "3c7d200d",
   "metadata": {},
   "outputs": [],
   "source": [
    "#Pythonflix"
   ]
  },
  {
   "cell_type": "code",
   "execution_count": 8,
   "id": "e1a3b4df",
   "metadata": {},
   "outputs": [
    {
     "name": "stdout",
     "output_type": "stream",
     "text": [
      "Top Gun Maverick\n",
      "2023\n"
     ]
    }
   ],
   "source": [
    "name = 'Top Gun Maverick'\n",
    "year_launch = 2023\n",
    "note_movie = 9.5\n",
    "plan_included = False\n",
    "\n",
    "print(name)\n",
    "print(year_launch)"
   ]
  },
  {
   "cell_type": "code",
   "execution_count": 10,
   "id": "c9d5840b",
   "metadata": {},
   "outputs": [
    {
     "name": "stdout",
     "output_type": "stream",
     "text": [
      "<class 'str'>\n",
      "<class 'int'>\n",
      "<class 'float'>\n",
      "<class 'bool'>\n"
     ]
    }
   ],
   "source": [
    "print(type(name))\n",
    "print(type(year_launch))\n",
    "print(type(note_movie))\n",
    "print(type(plan_included))"
   ]
  },
  {
   "cell_type": "code",
   "execution_count": null,
   "id": "eef4b9ec",
   "metadata": {},
   "outputs": [],
   "source": []
  }
 ],
 "metadata": {
  "kernelspec": {
   "display_name": "base",
   "language": "python",
   "name": "python3"
  },
  "language_info": {
   "codemirror_mode": {
    "name": "ipython",
    "version": 3
   },
   "file_extension": ".py",
   "mimetype": "text/x-python",
   "name": "python",
   "nbconvert_exporter": "python",
   "pygments_lexer": "ipython3",
   "version": "3.13.5"
  }
 },
 "nbformat": 4,
 "nbformat_minor": 5
}
