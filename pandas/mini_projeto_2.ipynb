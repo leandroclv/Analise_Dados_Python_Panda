{
 "cells": [
  {
   "cell_type": "code",
   "execution_count": 4,
   "id": "92266984",
   "metadata": {},
   "outputs": [],
   "source": [
    "import random\n",
    "from datetime import datetime, timedelta\n",
    "from pathlib import Path\n",
    "import pandas as pd\n",
    "import names"
   ]
  },
  {
   "cell_type": "code",
   "execution_count": 15,
   "id": "330148d0",
   "metadata": {},
   "outputs": [],
   "source": [
    "__file__ = globals()['_dh'][0].as_posix()\n",
    "pasta_datasets = Path(__file__).parent / 'dataset_meu'\n",
    "pasta_datasets.mkdir(parents=True, exist_ok=True) #criando pasta"
   ]
  },
  {
   "cell_type": "code",
   "execution_count": 6,
   "id": "d6b4c24f",
   "metadata": {},
   "outputs": [],
   "source": [
    "lojas = [\n",
    "    {'estado': 'SP', 'cidade': 'São Paulo', \n",
    "    'vendedores': ['Ana Oliveira', 'Lucas Pereira']},\n",
    "    {'estado': 'MG', 'cidade': 'Belo Horizonte', \n",
    "    'vendedores': ['Carlos Silva', 'Fernanda Costa']},\n",
    "    {'estado': 'RJ', 'cidade': 'Rio de Janeiro', \n",
    "    'vendedores': ['Juliana Almeida', 'Pedro Souza']},\n",
    "    {'estado': 'RS', 'cidade': 'Porto Alegre', \n",
    "    'vendedores': ['Mariana Gomes', 'Roberto Ferreira']},\n",
    "    {'estado': 'SC', 'cidade': 'Florianópolis', \n",
    "    'vendedores': ['Gabriela Santos', 'Tiago Lima']}\n",
    "]"
   ]
  },
  {
   "cell_type": "code",
   "execution_count": 7,
   "id": "ff22944b",
   "metadata": {},
   "outputs": [],
   "source": [
    "produtos = [\n",
    "    {'nome': 'Smartphone Samsung Galaxy', 'id':0, 'preco':2500 },\n",
    "    {'nome': 'Notebook Dell Inspiron', 'id':1, 'preco':4500 },\n",
    "    {'nome': 'Tablet Apple Ipad', 'id':2, 'preco':3000 },\n",
    "    {'nome': 'Smartwatch Garmin', 'id':3, 'preco':1200 },\n",
    "    {'nome': 'Fone de ouvido Sony', 'id':4, 'preco':600 },\n",
    "]"
   ]
  },
  {
   "cell_type": "code",
   "execution_count": 8,
   "id": "c0681d47",
   "metadata": {},
   "outputs": [],
   "source": [
    "forma_pagto = ['cartão de crédito', 'boleto', 'pix', 'dinheiro']\n",
    "genero_clientes = ['male', 'female']"
   ]
  },
  {
   "cell_type": "code",
   "execution_count": 9,
   "id": "03abea57",
   "metadata": {},
   "outputs": [],
   "source": [
    "compras = []\n",
    "for _ in range(2000):\n",
    "    loja = random.choice(lojas)\n",
    "    vendedor = random.choice(loja['vendedores'])\n",
    "    produto = random.choice(produtos)\n",
    "    hora_compra = datetime.now() - timedelta(\n",
    "        days=random.randint(1,365),\n",
    "        hours=random.randint(-5,5),\n",
    "        minutes = random.randint(-30,30)\n",
    "        )\n",
    "    genero_clientes = random.choice(genero_clientes)\n",
    "    nome_cliente = names.get_full_name(genero_clientes)\n",
    "    forma_pagto = random.choice(forma_pagto)\n",
    "    \n",
    "    compras.append(\n",
    "        {\n",
    "            'data': hora_compra,\n",
    "            'id_compra': 0,\n",
    "            'loja': loja['cidade'],\n",
    "            'vendedor': vendedor,\n",
    "            'produto': produto['nome'],\n",
    "            'cliente_nome': nome_cliente,\n",
    "            'cliente_genero': genero_clientes.replace('female', 'feminino').replace('male', 'masculino'),\n",
    "            'forma_pagamaneto': forma_pagto\n",
    "        }\n",
    "    )\n",
    "    \n",
    "df_compras = pd.DataFrame(compras).set_index('data').sort_index()\n",
    "df_compras['id_compra'] = [i for i in range(len(df_compras))]\n",
    "\n",
    "df_lojas = pd.DataFrame(lojas)\n",
    "df_produtos = pd.DataFrame(produtos)"
   ]
  },
  {
   "cell_type": "code",
   "execution_count": 10,
   "id": "bac48313",
   "metadata": {},
   "outputs": [
    {
     "data": {
      "text/html": [
       "<div>\n",
       "<style scoped>\n",
       "    .dataframe tbody tr th:only-of-type {\n",
       "        vertical-align: middle;\n",
       "    }\n",
       "\n",
       "    .dataframe tbody tr th {\n",
       "        vertical-align: top;\n",
       "    }\n",
       "\n",
       "    .dataframe thead th {\n",
       "        text-align: right;\n",
       "    }\n",
       "</style>\n",
       "<table border=\"1\" class=\"dataframe\">\n",
       "  <thead>\n",
       "    <tr style=\"text-align: right;\">\n",
       "      <th></th>\n",
       "      <th>estado</th>\n",
       "      <th>cidade</th>\n",
       "      <th>vendedores</th>\n",
       "    </tr>\n",
       "  </thead>\n",
       "  <tbody>\n",
       "    <tr>\n",
       "      <th>0</th>\n",
       "      <td>SP</td>\n",
       "      <td>São Paulo</td>\n",
       "      <td>[Ana Oliveira, Lucas Pereira]</td>\n",
       "    </tr>\n",
       "    <tr>\n",
       "      <th>1</th>\n",
       "      <td>MG</td>\n",
       "      <td>Belo Horizonte</td>\n",
       "      <td>[Carlos Silva, Fernanda Costa]</td>\n",
       "    </tr>\n",
       "    <tr>\n",
       "      <th>2</th>\n",
       "      <td>RJ</td>\n",
       "      <td>Rio de Janeiro</td>\n",
       "      <td>[Juliana Almeida, Pedro Souza]</td>\n",
       "    </tr>\n",
       "    <tr>\n",
       "      <th>3</th>\n",
       "      <td>RS</td>\n",
       "      <td>Porto Alegre</td>\n",
       "      <td>[Mariana Gomes, Roberto Ferreira]</td>\n",
       "    </tr>\n",
       "    <tr>\n",
       "      <th>4</th>\n",
       "      <td>SC</td>\n",
       "      <td>Florianópolis</td>\n",
       "      <td>[Gabriela Santos, Tiago Lima]</td>\n",
       "    </tr>\n",
       "  </tbody>\n",
       "</table>\n",
       "</div>"
      ],
      "text/plain": [
       "  estado          cidade                         vendedores\n",
       "0     SP       São Paulo      [Ana Oliveira, Lucas Pereira]\n",
       "1     MG  Belo Horizonte     [Carlos Silva, Fernanda Costa]\n",
       "2     RJ  Rio de Janeiro     [Juliana Almeida, Pedro Souza]\n",
       "3     RS    Porto Alegre  [Mariana Gomes, Roberto Ferreira]\n",
       "4     SC   Florianópolis      [Gabriela Santos, Tiago Lima]"
      ]
     },
     "execution_count": 10,
     "metadata": {},
     "output_type": "execute_result"
    }
   ],
   "source": [
    "df_lojas"
   ]
  },
  {
   "cell_type": "code",
   "execution_count": 11,
   "id": "22331470",
   "metadata": {},
   "outputs": [
    {
     "data": {
      "text/html": [
       "<div>\n",
       "<style scoped>\n",
       "    .dataframe tbody tr th:only-of-type {\n",
       "        vertical-align: middle;\n",
       "    }\n",
       "\n",
       "    .dataframe tbody tr th {\n",
       "        vertical-align: top;\n",
       "    }\n",
       "\n",
       "    .dataframe thead th {\n",
       "        text-align: right;\n",
       "    }\n",
       "</style>\n",
       "<table border=\"1\" class=\"dataframe\">\n",
       "  <thead>\n",
       "    <tr style=\"text-align: right;\">\n",
       "      <th></th>\n",
       "      <th>nome</th>\n",
       "      <th>id</th>\n",
       "      <th>preco</th>\n",
       "    </tr>\n",
       "  </thead>\n",
       "  <tbody>\n",
       "    <tr>\n",
       "      <th>0</th>\n",
       "      <td>Smartphone Samsung Galaxy</td>\n",
       "      <td>0</td>\n",
       "      <td>2500</td>\n",
       "    </tr>\n",
       "    <tr>\n",
       "      <th>1</th>\n",
       "      <td>Notebook Dell Inspiron</td>\n",
       "      <td>1</td>\n",
       "      <td>4500</td>\n",
       "    </tr>\n",
       "    <tr>\n",
       "      <th>2</th>\n",
       "      <td>Tablet Apple Ipad</td>\n",
       "      <td>2</td>\n",
       "      <td>3000</td>\n",
       "    </tr>\n",
       "    <tr>\n",
       "      <th>3</th>\n",
       "      <td>Smartwatch Garmin</td>\n",
       "      <td>3</td>\n",
       "      <td>1200</td>\n",
       "    </tr>\n",
       "    <tr>\n",
       "      <th>4</th>\n",
       "      <td>Fone de ouvido Sony</td>\n",
       "      <td>4</td>\n",
       "      <td>600</td>\n",
       "    </tr>\n",
       "  </tbody>\n",
       "</table>\n",
       "</div>"
      ],
      "text/plain": [
       "                        nome  id  preco\n",
       "0  Smartphone Samsung Galaxy   0   2500\n",
       "1     Notebook Dell Inspiron   1   4500\n",
       "2          Tablet Apple Ipad   2   3000\n",
       "3          Smartwatch Garmin   3   1200\n",
       "4        Fone de ouvido Sony   4    600"
      ]
     },
     "execution_count": 11,
     "metadata": {},
     "output_type": "execute_result"
    }
   ],
   "source": [
    "df_produtos"
   ]
  },
  {
   "cell_type": "code",
   "execution_count": 12,
   "id": "12432f83",
   "metadata": {},
   "outputs": [
    {
     "data": {
      "text/html": [
       "<div>\n",
       "<style scoped>\n",
       "    .dataframe tbody tr th:only-of-type {\n",
       "        vertical-align: middle;\n",
       "    }\n",
       "\n",
       "    .dataframe tbody tr th {\n",
       "        vertical-align: top;\n",
       "    }\n",
       "\n",
       "    .dataframe thead th {\n",
       "        text-align: right;\n",
       "    }\n",
       "</style>\n",
       "<table border=\"1\" class=\"dataframe\">\n",
       "  <thead>\n",
       "    <tr style=\"text-align: right;\">\n",
       "      <th></th>\n",
       "      <th>id_compra</th>\n",
       "      <th>loja</th>\n",
       "      <th>vendedor</th>\n",
       "      <th>produto</th>\n",
       "      <th>cliente_nome</th>\n",
       "      <th>cliente_genero</th>\n",
       "      <th>forma_pagamaneto</th>\n",
       "    </tr>\n",
       "    <tr>\n",
       "      <th>data</th>\n",
       "      <th></th>\n",
       "      <th></th>\n",
       "      <th></th>\n",
       "      <th></th>\n",
       "      <th></th>\n",
       "      <th></th>\n",
       "      <th></th>\n",
       "    </tr>\n",
       "  </thead>\n",
       "  <tbody>\n",
       "    <tr>\n",
       "      <th>2024-09-29 04:20:25.700413</th>\n",
       "      <td>0</td>\n",
       "      <td>Porto Alegre</td>\n",
       "      <td>Roberto Ferreira</td>\n",
       "      <td>Notebook Dell Inspiron</td>\n",
       "      <td>Martin Lamkin</td>\n",
       "      <td>l</td>\n",
       "      <td>p</td>\n",
       "    </tr>\n",
       "    <tr>\n",
       "      <th>2024-09-29 08:46:25.029216</th>\n",
       "      <td>1</td>\n",
       "      <td>São Paulo</td>\n",
       "      <td>Ana Oliveira</td>\n",
       "      <td>Smartphone Samsung Galaxy</td>\n",
       "      <td>Joe Sheets</td>\n",
       "      <td>l</td>\n",
       "      <td>p</td>\n",
       "    </tr>\n",
       "    <tr>\n",
       "      <th>2024-09-29 11:28:28.971841</th>\n",
       "      <td>2</td>\n",
       "      <td>São Paulo</td>\n",
       "      <td>Ana Oliveira</td>\n",
       "      <td>Tablet Apple Ipad</td>\n",
       "      <td>Paula Miller</td>\n",
       "      <td>l</td>\n",
       "      <td>p</td>\n",
       "    </tr>\n",
       "    <tr>\n",
       "      <th>2024-09-29 11:36:34.312800</th>\n",
       "      <td>3</td>\n",
       "      <td>São Paulo</td>\n",
       "      <td>Lucas Pereira</td>\n",
       "      <td>Smartwatch Garmin</td>\n",
       "      <td>Velma Howell</td>\n",
       "      <td>l</td>\n",
       "      <td>p</td>\n",
       "    </tr>\n",
       "    <tr>\n",
       "      <th>2024-09-30 08:58:31.200497</th>\n",
       "      <td>4</td>\n",
       "      <td>Florianópolis</td>\n",
       "      <td>Gabriela Santos</td>\n",
       "      <td>Fone de ouvido Sony</td>\n",
       "      <td>Chris Wise</td>\n",
       "      <td>l</td>\n",
       "      <td>p</td>\n",
       "    </tr>\n",
       "  </tbody>\n",
       "</table>\n",
       "</div>"
      ],
      "text/plain": [
       "                            id_compra           loja          vendedor  \\\n",
       "data                                                                     \n",
       "2024-09-29 04:20:25.700413          0   Porto Alegre  Roberto Ferreira   \n",
       "2024-09-29 08:46:25.029216          1      São Paulo      Ana Oliveira   \n",
       "2024-09-29 11:28:28.971841          2      São Paulo      Ana Oliveira   \n",
       "2024-09-29 11:36:34.312800          3      São Paulo     Lucas Pereira   \n",
       "2024-09-30 08:58:31.200497          4  Florianópolis   Gabriela Santos   \n",
       "\n",
       "                                              produto   cliente_nome  \\\n",
       "data                                                                   \n",
       "2024-09-29 04:20:25.700413     Notebook Dell Inspiron  Martin Lamkin   \n",
       "2024-09-29 08:46:25.029216  Smartphone Samsung Galaxy     Joe Sheets   \n",
       "2024-09-29 11:28:28.971841          Tablet Apple Ipad   Paula Miller   \n",
       "2024-09-29 11:36:34.312800          Smartwatch Garmin   Velma Howell   \n",
       "2024-09-30 08:58:31.200497        Fone de ouvido Sony     Chris Wise   \n",
       "\n",
       "                           cliente_genero forma_pagamaneto  \n",
       "data                                                        \n",
       "2024-09-29 04:20:25.700413              l                p  \n",
       "2024-09-29 08:46:25.029216              l                p  \n",
       "2024-09-29 11:28:28.971841              l                p  \n",
       "2024-09-29 11:36:34.312800              l                p  \n",
       "2024-09-30 08:58:31.200497              l                p  "
      ]
     },
     "execution_count": 12,
     "metadata": {},
     "output_type": "execute_result"
    }
   ],
   "source": [
    "df_compras.head()"
   ]
  },
  {
   "cell_type": "code",
   "execution_count": null,
   "id": "4293ba8d",
   "metadata": {},
   "outputs": [],
   "source": [
    "#Exportando Dataframes\n",
    "df_compras.to_csv(pasta_datasets / 'compras.csv', decimal=',', sep=';')\n",
    "df_lojas.to_csv(pasta_datasets / 'lojas.csv', decimal=',', sep=';')\n",
    "df_produtos.to_csv(pasta_datasets / 'produtos.csv', decimal=',', sep=';')"
   ]
  },
  {
   "cell_type": "code",
   "execution_count": 14,
   "id": "50a0978f",
   "metadata": {},
   "outputs": [],
   "source": [
    "df_compras.to_excel(pasta_datasets / 'compras.xlsx')\n",
    "df_lojas.to_excel(pasta_datasets / 'lojas.xlsx')\n",
    "df_produtos.to_excel(pasta_datasets / 'produtos.xlsx')"
   ]
  },
  {
   "cell_type": "code",
   "execution_count": 23,
   "id": "3b8e2591",
   "metadata": {},
   "outputs": [
    {
     "name": "stdout",
     "output_type": "stream",
     "text": [
      "Requirement already satisfied: streamlit in /home/leandro/anaconda3/lib/python3.13/site-packages (1.45.1)\n",
      "Requirement already satisfied: altair<6,>=4.0 in /home/leandro/anaconda3/lib/python3.13/site-packages (from streamlit) (5.5.0)\n",
      "Requirement already satisfied: blinker<2,>=1.5.0 in /home/leandro/anaconda3/lib/python3.13/site-packages (from streamlit) (1.9.0)\n",
      "Requirement already satisfied: cachetools<6,>=4.0 in /home/leandro/anaconda3/lib/python3.13/site-packages (from streamlit) (5.5.1)\n",
      "Requirement already satisfied: click<9,>=7.0 in /home/leandro/anaconda3/lib/python3.13/site-packages (from streamlit) (8.1.8)\n",
      "Requirement already satisfied: numpy<3,>=1.23 in /home/leandro/anaconda3/lib/python3.13/site-packages (from streamlit) (2.1.3)\n",
      "Requirement already satisfied: packaging<25,>=20 in /home/leandro/anaconda3/lib/python3.13/site-packages (from streamlit) (24.2)\n",
      "Requirement already satisfied: pandas<3,>=1.4.0 in /home/leandro/anaconda3/lib/python3.13/site-packages (from streamlit) (2.2.3)\n",
      "Requirement already satisfied: pillow<12,>=7.1.0 in /home/leandro/anaconda3/lib/python3.13/site-packages (from streamlit) (11.1.0)\n",
      "Requirement already satisfied: protobuf<7,>=3.20 in /home/leandro/anaconda3/lib/python3.13/site-packages (from streamlit) (5.29.3)\n",
      "Requirement already satisfied: pyarrow>=7.0 in /home/leandro/anaconda3/lib/python3.13/site-packages (from streamlit) (19.0.0)\n",
      "Requirement already satisfied: requests<3,>=2.27 in /home/leandro/anaconda3/lib/python3.13/site-packages (from streamlit) (2.32.3)\n",
      "Requirement already satisfied: tenacity<10,>=8.1.0 in /home/leandro/anaconda3/lib/python3.13/site-packages (from streamlit) (9.0.0)\n",
      "Requirement already satisfied: toml<2,>=0.10.1 in /home/leandro/anaconda3/lib/python3.13/site-packages (from streamlit) (0.10.2)\n",
      "Requirement already satisfied: typing-extensions<5,>=4.4.0 in /home/leandro/anaconda3/lib/python3.13/site-packages (from streamlit) (4.12.2)\n",
      "Requirement already satisfied: watchdog<7,>=2.1.5 in /home/leandro/anaconda3/lib/python3.13/site-packages (from streamlit) (4.0.2)\n",
      "Requirement already satisfied: gitpython!=3.1.19,<4,>=3.0.7 in /home/leandro/anaconda3/lib/python3.13/site-packages (from streamlit) (3.1.43)\n",
      "Requirement already satisfied: tornado<7,>=6.0.3 in /home/leandro/anaconda3/lib/python3.13/site-packages (from streamlit) (6.5.1)\n",
      "Requirement already satisfied: jinja2 in /home/leandro/anaconda3/lib/python3.13/site-packages (from altair<6,>=4.0->streamlit) (3.1.6)\n",
      "Requirement already satisfied: jsonschema>=3.0 in /home/leandro/anaconda3/lib/python3.13/site-packages (from altair<6,>=4.0->streamlit) (4.23.0)\n",
      "Requirement already satisfied: narwhals>=1.14.2 in /home/leandro/anaconda3/lib/python3.13/site-packages (from altair<6,>=4.0->streamlit) (1.31.0)\n",
      "Requirement already satisfied: gitdb<5,>=4.0.1 in /home/leandro/anaconda3/lib/python3.13/site-packages (from gitpython!=3.1.19,<4,>=3.0.7->streamlit) (4.0.7)\n",
      "Requirement already satisfied: smmap<5,>=3.0.1 in /home/leandro/anaconda3/lib/python3.13/site-packages (from gitdb<5,>=4.0.1->gitpython!=3.1.19,<4,>=3.0.7->streamlit) (4.0.0)\n",
      "Requirement already satisfied: python-dateutil>=2.8.2 in /home/leandro/anaconda3/lib/python3.13/site-packages (from pandas<3,>=1.4.0->streamlit) (2.9.0.post0)\n",
      "Requirement already satisfied: pytz>=2020.1 in /home/leandro/anaconda3/lib/python3.13/site-packages (from pandas<3,>=1.4.0->streamlit) (2024.1)\n",
      "Requirement already satisfied: tzdata>=2022.7 in /home/leandro/anaconda3/lib/python3.13/site-packages (from pandas<3,>=1.4.0->streamlit) (2025.2)\n",
      "Requirement already satisfied: charset-normalizer<4,>=2 in /home/leandro/anaconda3/lib/python3.13/site-packages (from requests<3,>=2.27->streamlit) (3.3.2)\n",
      "Requirement already satisfied: idna<4,>=2.5 in /home/leandro/anaconda3/lib/python3.13/site-packages (from requests<3,>=2.27->streamlit) (3.7)\n",
      "Requirement already satisfied: urllib3<3,>=1.21.1 in /home/leandro/anaconda3/lib/python3.13/site-packages (from requests<3,>=2.27->streamlit) (2.3.0)\n",
      "Requirement already satisfied: certifi>=2017.4.17 in /home/leandro/anaconda3/lib/python3.13/site-packages (from requests<3,>=2.27->streamlit) (2025.4.26)\n",
      "Requirement already satisfied: attrs>=22.2.0 in /home/leandro/anaconda3/lib/python3.13/site-packages (from jsonschema>=3.0->altair<6,>=4.0->streamlit) (24.3.0)\n",
      "Requirement already satisfied: jsonschema-specifications>=2023.03.6 in /home/leandro/anaconda3/lib/python3.13/site-packages (from jsonschema>=3.0->altair<6,>=4.0->streamlit) (2023.7.1)\n",
      "Requirement already satisfied: referencing>=0.28.4 in /home/leandro/anaconda3/lib/python3.13/site-packages (from jsonschema>=3.0->altair<6,>=4.0->streamlit) (0.30.2)\n",
      "Requirement already satisfied: rpds-py>=0.7.1 in /home/leandro/anaconda3/lib/python3.13/site-packages (from jsonschema>=3.0->altair<6,>=4.0->streamlit) (0.22.3)\n",
      "Requirement already satisfied: six>=1.5 in /home/leandro/anaconda3/lib/python3.13/site-packages (from python-dateutil>=2.8.2->pandas<3,>=1.4.0->streamlit) (1.17.0)\n",
      "Requirement already satisfied: MarkupSafe>=2.0 in /home/leandro/anaconda3/lib/python3.13/site-packages (from jinja2->altair<6,>=4.0->streamlit) (3.0.2)\n",
      "Note: you may need to restart the kernel to use updated packages.\n"
     ]
    }
   ],
   "source": [
    "%pip install streamlit"
   ]
  },
  {
   "cell_type": "code",
   "execution_count": 25,
   "id": "fe88d293",
   "metadata": {},
   "outputs": [],
   "source": [
    "import streamlit as st"
   ]
  },
  {
   "cell_type": "code",
   "execution_count": 26,
   "id": "1492134a",
   "metadata": {},
   "outputs": [],
   "source": [
    "caminho_compras = 'datasets/compras.csv'\n",
    "df_compras1 = pd.read_csv(caminho_compras, sep=';', decimal=',')"
   ]
  },
  {
   "cell_type": "code",
   "execution_count": 27,
   "id": "a7935aa3",
   "metadata": {},
   "outputs": [
    {
     "name": "stderr",
     "output_type": "stream",
     "text": [
      "2025-09-29 10:53:49.560 Thread 'MainThread': missing ScriptRunContext! This warning can be ignored when running in bare mode.\n",
      "2025-09-29 10:53:49.563 Thread 'MainThread': missing ScriptRunContext! This warning can be ignored when running in bare mode.\n"
     ]
    },
    {
     "data": {
      "text/plain": [
       "DeltaGenerator()"
      ]
     },
     "execution_count": 27,
     "metadata": {},
     "output_type": "execute_result"
    }
   ],
   "source": [
    "st.dataframe(df_compras1)"
   ]
  },
  {
   "cell_type": "code",
   "execution_count": 21,
   "id": "572d6e3d",
   "metadata": {},
   "outputs": [
    {
     "data": {
      "text/html": [
       "<div>\n",
       "<style scoped>\n",
       "    .dataframe tbody tr th:only-of-type {\n",
       "        vertical-align: middle;\n",
       "    }\n",
       "\n",
       "    .dataframe tbody tr th {\n",
       "        vertical-align: top;\n",
       "    }\n",
       "\n",
       "    .dataframe thead th {\n",
       "        text-align: right;\n",
       "    }\n",
       "</style>\n",
       "<table border=\"1\" class=\"dataframe\">\n",
       "  <thead>\n",
       "    <tr style=\"text-align: right;\">\n",
       "      <th></th>\n",
       "      <th>id_compra</th>\n",
       "      <th>loja</th>\n",
       "      <th>vendedor</th>\n",
       "      <th>produto</th>\n",
       "      <th>cliente_nome</th>\n",
       "      <th>cliente_genero</th>\n",
       "      <th>forma_pagamento</th>\n",
       "    </tr>\n",
       "    <tr>\n",
       "      <th>data</th>\n",
       "      <th></th>\n",
       "      <th></th>\n",
       "      <th></th>\n",
       "      <th></th>\n",
       "      <th></th>\n",
       "      <th></th>\n",
       "      <th></th>\n",
       "    </tr>\n",
       "  </thead>\n",
       "  <tbody>\n",
       "    <tr>\n",
       "      <th>2023-12-19 19:29:20.923259</th>\n",
       "      <td>0</td>\n",
       "      <td>Florianópolis</td>\n",
       "      <td>Tiago Lima</td>\n",
       "      <td>Smartphone Samsung Galaxy</td>\n",
       "      <td>Kimberly Molina</td>\n",
       "      <td>feminino</td>\n",
       "      <td>dinheiro</td>\n",
       "    </tr>\n",
       "    <tr>\n",
       "      <th>2023-12-19 20:54:22.408124</th>\n",
       "      <td>1</td>\n",
       "      <td>São Paulo</td>\n",
       "      <td>Lucas Pereira</td>\n",
       "      <td>Smartwatch Garmin</td>\n",
       "      <td>Rebecca Fitzgerald</td>\n",
       "      <td>feminino</td>\n",
       "      <td>cartão de crédito</td>\n",
       "    </tr>\n",
       "    <tr>\n",
       "      <th>2023-12-19 21:41:26.807241</th>\n",
       "      <td>2</td>\n",
       "      <td>Porto Alegre</td>\n",
       "      <td>Mariana Gomes</td>\n",
       "      <td>Notebook Dell Inspiron</td>\n",
       "      <td>Hal Green</td>\n",
       "      <td>masculino</td>\n",
       "      <td>boleto</td>\n",
       "    </tr>\n",
       "    <tr>\n",
       "      <th>2023-12-19 22:28:32.305525</th>\n",
       "      <td>3</td>\n",
       "      <td>Porto Alegre</td>\n",
       "      <td>Mariana Gomes</td>\n",
       "      <td>Fone de Ouvido Sony</td>\n",
       "      <td>Jason Edwardson</td>\n",
       "      <td>masculino</td>\n",
       "      <td>dinheiro</td>\n",
       "    </tr>\n",
       "    <tr>\n",
       "      <th>2023-12-19 23:14:29.902292</th>\n",
       "      <td>4</td>\n",
       "      <td>São Paulo</td>\n",
       "      <td>Ana Oliveira</td>\n",
       "      <td>Notebook Dell Inspiron</td>\n",
       "      <td>Angie Ford</td>\n",
       "      <td>feminino</td>\n",
       "      <td>boleto</td>\n",
       "    </tr>\n",
       "  </tbody>\n",
       "</table>\n",
       "</div>"
      ],
      "text/plain": [
       "                            id_compra           loja       vendedor  \\\n",
       "data                                                                  \n",
       "2023-12-19 19:29:20.923259          0  Florianópolis     Tiago Lima   \n",
       "2023-12-19 20:54:22.408124          1      São Paulo  Lucas Pereira   \n",
       "2023-12-19 21:41:26.807241          2   Porto Alegre  Mariana Gomes   \n",
       "2023-12-19 22:28:32.305525          3   Porto Alegre  Mariana Gomes   \n",
       "2023-12-19 23:14:29.902292          4      São Paulo   Ana Oliveira   \n",
       "\n",
       "                                              produto        cliente_nome  \\\n",
       "data                                                                        \n",
       "2023-12-19 19:29:20.923259  Smartphone Samsung Galaxy     Kimberly Molina   \n",
       "2023-12-19 20:54:22.408124          Smartwatch Garmin  Rebecca Fitzgerald   \n",
       "2023-12-19 21:41:26.807241     Notebook Dell Inspiron           Hal Green   \n",
       "2023-12-19 22:28:32.305525        Fone de Ouvido Sony     Jason Edwardson   \n",
       "2023-12-19 23:14:29.902292     Notebook Dell Inspiron          Angie Ford   \n",
       "\n",
       "                           cliente_genero    forma_pagamento  \n",
       "data                                                          \n",
       "2023-12-19 19:29:20.923259       feminino           dinheiro  \n",
       "2023-12-19 20:54:22.408124       feminino  cartão de crédito  \n",
       "2023-12-19 21:41:26.807241      masculino             boleto  \n",
       "2023-12-19 22:28:32.305525      masculino           dinheiro  \n",
       "2023-12-19 23:14:29.902292       feminino             boleto  "
      ]
     },
     "execution_count": 21,
     "metadata": {},
     "output_type": "execute_result"
    }
   ],
   "source": [
    "caminho_arquivo = 'datasets/compras.csv'\n",
    "df_compras2 = pd.read_csv(caminho_arquivo,sep=';', decimal=',', index_col=0)\n",
    "df_compras2.head()"
   ]
  },
  {
   "cell_type": "code",
   "execution_count": 28,
   "id": "ec78b720",
   "metadata": {},
   "outputs": [
    {
     "name": "stderr",
     "output_type": "stream",
     "text": [
      "2025-09-29 10:53:56.144 Thread 'MainThread': missing ScriptRunContext! This warning can be ignored when running in bare mode.\n",
      "2025-09-29 10:53:56.146 Thread 'MainThread': missing ScriptRunContext! This warning can be ignored when running in bare mode.\n",
      "2025-09-29 10:53:56.148 Thread 'MainThread': missing ScriptRunContext! This warning can be ignored when running in bare mode.\n",
      "2025-09-29 10:53:56.149 Thread 'MainThread': missing ScriptRunContext! This warning can be ignored when running in bare mode.\n",
      "2025-09-29 10:53:56.151 Thread 'MainThread': missing ScriptRunContext! This warning can be ignored when running in bare mode.\n"
     ]
    },
    {
     "data": {
      "text/plain": [
       "[]"
      ]
     },
     "execution_count": 28,
     "metadata": {},
     "output_type": "execute_result"
    }
   ],
   "source": [
    "colunas = list(df_compras2.columns)\n",
    "st.multiselect('Selecione as colunas:', colunas)"
   ]
  },
  {
   "cell_type": "code",
   "execution_count": null,
   "id": "824b5e39",
   "metadata": {},
   "outputs": [],
   "source": []
  }
 ],
 "metadata": {
  "kernelspec": {
   "display_name": "base",
   "language": "python",
   "name": "python3"
  },
  "language_info": {
   "codemirror_mode": {
    "name": "ipython",
    "version": 3
   },
   "file_extension": ".py",
   "mimetype": "text/x-python",
   "name": "python",
   "nbconvert_exporter": "python",
   "pygments_lexer": "ipython3",
   "version": "3.13.5"
  }
 },
 "nbformat": 4,
 "nbformat_minor": 5
}
