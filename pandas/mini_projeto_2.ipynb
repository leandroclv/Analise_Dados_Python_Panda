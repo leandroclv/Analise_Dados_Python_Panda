{
 "cells": [
  {
   "cell_type": "code",
   "execution_count": 27,
   "id": "92266984",
   "metadata": {},
   "outputs": [],
   "source": [
    "import random\n",
    "from datetime import datetime, timedelta\n",
    "from pathlib import Path\n",
    "import pandas as pd\n",
    "import names"
   ]
  },
  {
   "cell_type": "code",
   "execution_count": 26,
   "id": "330148d0",
   "metadata": {},
   "outputs": [
    {
     "name": "stdout",
     "output_type": "stream",
     "text": [
      "Collecting Path\n",
      "  Downloading path-17.1.1-py3-none-any.whl.metadata (6.5 kB)\n",
      "Downloading path-17.1.1-py3-none-any.whl (23 kB)\n",
      "Installing collected packages: Path\n",
      "Successfully installed Path-17.1.1\n",
      "Note: you may need to restart the kernel to use updated packages.\n"
     ]
    }
   ],
   "source": [
    "%pip install Path"
   ]
  },
  {
   "cell_type": "code",
   "execution_count": 28,
   "id": "868b1033",
   "metadata": {},
   "outputs": [
    {
     "ename": "NameError",
     "evalue": "name '__file__' is not defined",
     "output_type": "error",
     "traceback": [
      "\u001b[0;31m---------------------------------------------------------------------------\u001b[0m",
      "\u001b[0;31mNameError\u001b[0m                                 Traceback (most recent call last)",
      "Cell \u001b[0;32mIn[28], line 1\u001b[0m\n\u001b[0;32m----> 1\u001b[0m pasta_datasets \u001b[38;5;241m=\u001b[39m Path(\u001b[38;5;18m__file__\u001b[39m)\u001b[38;5;241m.\u001b[39mparent \u001b[38;5;241m/\u001b[39m \u001b[38;5;124m'\u001b[39m\u001b[38;5;124mdataset\u001b[39m\u001b[38;5;124m'\u001b[39m\n\u001b[1;32m      2\u001b[0m pasta_datasets\u001b[38;5;241m.\u001b[39mmkdir(parents\u001b[38;5;241m=\u001b[39m\u001b[38;5;28;01mTrue\u001b[39;00m, exist_ok\u001b[38;5;241m=\u001b[39m\u001b[38;5;28;01mTrue\u001b[39;00m)\n",
      "\u001b[0;31mNameError\u001b[0m: name '__file__' is not defined"
     ]
    }
   ],
   "source": [
    "pasta_datasets = Path(__file__).parent / 'dataset'\n",
    "pasta_datasets.mkdir(parents=True, exist_ok=True) #criando pasta"
   ]
  },
  {
   "cell_type": "code",
   "execution_count": 10,
   "id": "d6b4c24f",
   "metadata": {},
   "outputs": [],
   "source": [
    "lojas = [\n",
    "    {'estado': 'SP', 'cidade': 'São Paulo', \n",
    "    'vendedores': ['Ana Oliveira', 'Lucas Pereira']},\n",
    "    {'estado': 'MG', 'cidade': 'Belo Horizonte', \n",
    "    'vendedores': ['Carlos Silva', 'Fernanda Costa']},\n",
    "    {'estado': 'RJ', 'cidade': 'Rio de Janeiro', \n",
    "    'vendedores': ['Juliana Almeida', 'Pedro Souza']},\n",
    "    {'estado': 'RS', 'cidade': 'Porto Alegre', \n",
    "    'vendedores': ['Mariana Gomes', 'Roberto Ferreira']},\n",
    "    {'estado': 'SC', 'cidade': 'Florianópolis', \n",
    "    'vendedores': ['Gabriela Santos', 'Tiago Lima']}\n",
    "]"
   ]
  },
  {
   "cell_type": "code",
   "execution_count": 11,
   "id": "ff22944b",
   "metadata": {},
   "outputs": [],
   "source": [
    "produtos = [\n",
    "    {'nome': 'Smartphone Samsung Galaxy', 'id':0, 'preco':2500 },\n",
    "    {'nome': 'Notebook Dell Inspiron', 'id':1, 'preco':4500 },\n",
    "    {'nome': 'Tablet Apple Ipad', 'id':2, 'preco':3000 },\n",
    "    {'nome': 'Smartwatch Garmin', 'id':3, 'preco':1200 },\n",
    "    {'nome': 'Fone de ouvido Sony', 'id':4, 'preco':600 },\n",
    "]"
   ]
  },
  {
   "cell_type": "code",
   "execution_count": 12,
   "id": "c0681d47",
   "metadata": {},
   "outputs": [],
   "source": [
    "forma_pagto = ['cartão de crédito', 'boleto', 'pix', 'dinheiro']\n",
    "genero_clientes = ['male', 'female']"
   ]
  },
  {
   "cell_type": "code",
   "execution_count": 14,
   "id": "03abea57",
   "metadata": {},
   "outputs": [],
   "source": [
    "compras = []\n",
    "for _ in range(2000):\n",
    "    loja = random.choice(lojas)\n",
    "    vendedor = random.choice(loja['vendedores'])\n",
    "    produto = random.choice(produtos)\n",
    "    hora_compra = datetime.now() - timedelta(\n",
    "        days=random.randint(1,365),\n",
    "        hours=random.randint(-5,5),\n",
    "        minutes = random.randint(-30,30)\n",
    "        )\n",
    "    genero_clientes = random.choice(genero_clientes)\n",
    "    nome_cliente = names.get_full_name(genero_clientes)\n",
    "    forma_pagto = random.choice(forma_pagto)\n",
    "    \n",
    "    compras.append(\n",
    "        {\n",
    "            'data': hora_compra,\n",
    "            'id_compra': 0,\n",
    "            'loja': loja['cidade'],\n",
    "            'vendedor': vendedor,\n",
    "            'produto': produto['nome'],\n",
    "            'cliente_nome': nome_cliente,\n",
    "            'cliente_genero': genero_clientes.replace('female', 'feminino').replace('male', 'masculino'),\n",
    "            'forma_pagamaneto': forma_pagto\n",
    "        }\n",
    "    )\n",
    "    \n",
    "df_compras = pd.DataFrame(compras).set_index('data').sort_index()\n",
    "df_compras['id_compra'] = [i for i in range(len(df_compras))]\n",
    "\n",
    "df_lojas = pd.DataFrame(lojas)\n",
    "df_produtos = pd.DataFrame(produtos)"
   ]
  },
  {
   "cell_type": "code",
   "execution_count": 15,
   "id": "bac48313",
   "metadata": {},
   "outputs": [
    {
     "data": {
      "text/html": [
       "<div>\n",
       "<style scoped>\n",
       "    .dataframe tbody tr th:only-of-type {\n",
       "        vertical-align: middle;\n",
       "    }\n",
       "\n",
       "    .dataframe tbody tr th {\n",
       "        vertical-align: top;\n",
       "    }\n",
       "\n",
       "    .dataframe thead th {\n",
       "        text-align: right;\n",
       "    }\n",
       "</style>\n",
       "<table border=\"1\" class=\"dataframe\">\n",
       "  <thead>\n",
       "    <tr style=\"text-align: right;\">\n",
       "      <th></th>\n",
       "      <th>estado</th>\n",
       "      <th>cidade</th>\n",
       "      <th>vendedores</th>\n",
       "    </tr>\n",
       "  </thead>\n",
       "  <tbody>\n",
       "    <tr>\n",
       "      <th>0</th>\n",
       "      <td>SP</td>\n",
       "      <td>São Paulo</td>\n",
       "      <td>[Ana Oliveira, Lucas Pereira]</td>\n",
       "    </tr>\n",
       "    <tr>\n",
       "      <th>1</th>\n",
       "      <td>MG</td>\n",
       "      <td>Belo Horizonte</td>\n",
       "      <td>[Carlos Silva, Fernanda Costa]</td>\n",
       "    </tr>\n",
       "    <tr>\n",
       "      <th>2</th>\n",
       "      <td>RJ</td>\n",
       "      <td>Rio de Janeiro</td>\n",
       "      <td>[Juliana Almeida, Pedro Souza]</td>\n",
       "    </tr>\n",
       "    <tr>\n",
       "      <th>3</th>\n",
       "      <td>RS</td>\n",
       "      <td>Porto Alegre</td>\n",
       "      <td>[Mariana Gomes, Roberto Ferreira]</td>\n",
       "    </tr>\n",
       "    <tr>\n",
       "      <th>4</th>\n",
       "      <td>SC</td>\n",
       "      <td>Florianópolis</td>\n",
       "      <td>[Gabriela Santos, Tiago Lima]</td>\n",
       "    </tr>\n",
       "  </tbody>\n",
       "</table>\n",
       "</div>"
      ],
      "text/plain": [
       "  estado          cidade                         vendedores\n",
       "0     SP       São Paulo      [Ana Oliveira, Lucas Pereira]\n",
       "1     MG  Belo Horizonte     [Carlos Silva, Fernanda Costa]\n",
       "2     RJ  Rio de Janeiro     [Juliana Almeida, Pedro Souza]\n",
       "3     RS    Porto Alegre  [Mariana Gomes, Roberto Ferreira]\n",
       "4     SC   Florianópolis      [Gabriela Santos, Tiago Lima]"
      ]
     },
     "execution_count": 15,
     "metadata": {},
     "output_type": "execute_result"
    }
   ],
   "source": [
    "df_lojas"
   ]
  },
  {
   "cell_type": "code",
   "execution_count": 16,
   "id": "22331470",
   "metadata": {},
   "outputs": [
    {
     "data": {
      "text/html": [
       "<div>\n",
       "<style scoped>\n",
       "    .dataframe tbody tr th:only-of-type {\n",
       "        vertical-align: middle;\n",
       "    }\n",
       "\n",
       "    .dataframe tbody tr th {\n",
       "        vertical-align: top;\n",
       "    }\n",
       "\n",
       "    .dataframe thead th {\n",
       "        text-align: right;\n",
       "    }\n",
       "</style>\n",
       "<table border=\"1\" class=\"dataframe\">\n",
       "  <thead>\n",
       "    <tr style=\"text-align: right;\">\n",
       "      <th></th>\n",
       "      <th>nome</th>\n",
       "      <th>id</th>\n",
       "      <th>preco</th>\n",
       "    </tr>\n",
       "  </thead>\n",
       "  <tbody>\n",
       "    <tr>\n",
       "      <th>0</th>\n",
       "      <td>Smartphone Samsung Galaxy</td>\n",
       "      <td>0</td>\n",
       "      <td>2500</td>\n",
       "    </tr>\n",
       "    <tr>\n",
       "      <th>1</th>\n",
       "      <td>Notebook Dell Inspiron</td>\n",
       "      <td>1</td>\n",
       "      <td>4500</td>\n",
       "    </tr>\n",
       "    <tr>\n",
       "      <th>2</th>\n",
       "      <td>Tablet Apple Ipad</td>\n",
       "      <td>2</td>\n",
       "      <td>3000</td>\n",
       "    </tr>\n",
       "    <tr>\n",
       "      <th>3</th>\n",
       "      <td>Smartwatch Garmin</td>\n",
       "      <td>3</td>\n",
       "      <td>1200</td>\n",
       "    </tr>\n",
       "    <tr>\n",
       "      <th>4</th>\n",
       "      <td>Fone de ouvido Sony</td>\n",
       "      <td>4</td>\n",
       "      <td>600</td>\n",
       "    </tr>\n",
       "  </tbody>\n",
       "</table>\n",
       "</div>"
      ],
      "text/plain": [
       "                        nome  id  preco\n",
       "0  Smartphone Samsung Galaxy   0   2500\n",
       "1     Notebook Dell Inspiron   1   4500\n",
       "2          Tablet Apple Ipad   2   3000\n",
       "3          Smartwatch Garmin   3   1200\n",
       "4        Fone de ouvido Sony   4    600"
      ]
     },
     "execution_count": 16,
     "metadata": {},
     "output_type": "execute_result"
    }
   ],
   "source": [
    "df_produtos"
   ]
  },
  {
   "cell_type": "code",
   "execution_count": 18,
   "id": "12432f83",
   "metadata": {},
   "outputs": [
    {
     "data": {
      "text/html": [
       "<div>\n",
       "<style scoped>\n",
       "    .dataframe tbody tr th:only-of-type {\n",
       "        vertical-align: middle;\n",
       "    }\n",
       "\n",
       "    .dataframe tbody tr th {\n",
       "        vertical-align: top;\n",
       "    }\n",
       "\n",
       "    .dataframe thead th {\n",
       "        text-align: right;\n",
       "    }\n",
       "</style>\n",
       "<table border=\"1\" class=\"dataframe\">\n",
       "  <thead>\n",
       "    <tr style=\"text-align: right;\">\n",
       "      <th></th>\n",
       "      <th>id_compra</th>\n",
       "      <th>loja</th>\n",
       "      <th>vendedor</th>\n",
       "      <th>produto</th>\n",
       "      <th>cliente_nome</th>\n",
       "      <th>cliente_genero</th>\n",
       "      <th>forma_pagamaneto</th>\n",
       "    </tr>\n",
       "    <tr>\n",
       "      <th>data</th>\n",
       "      <th></th>\n",
       "      <th></th>\n",
       "      <th></th>\n",
       "      <th></th>\n",
       "      <th></th>\n",
       "      <th></th>\n",
       "      <th></th>\n",
       "    </tr>\n",
       "  </thead>\n",
       "  <tbody>\n",
       "    <tr>\n",
       "      <th>2024-09-26 11:54:14.832231</th>\n",
       "      <td>0</td>\n",
       "      <td>Florianópolis</td>\n",
       "      <td>Tiago Lima</td>\n",
       "      <td>Smartphone Samsung Galaxy</td>\n",
       "      <td>John Strassel</td>\n",
       "      <td>e</td>\n",
       "      <td>l</td>\n",
       "    </tr>\n",
       "    <tr>\n",
       "      <th>2024-09-26 13:55:13.903941</th>\n",
       "      <td>1</td>\n",
       "      <td>São Paulo</td>\n",
       "      <td>Lucas Pereira</td>\n",
       "      <td>Notebook Dell Inspiron</td>\n",
       "      <td>Robert Sellner</td>\n",
       "      <td>e</td>\n",
       "      <td>l</td>\n",
       "    </tr>\n",
       "    <tr>\n",
       "      <th>2024-09-26 13:59:09.749951</th>\n",
       "      <td>2</td>\n",
       "      <td>Florianópolis</td>\n",
       "      <td>Tiago Lima</td>\n",
       "      <td>Notebook Dell Inspiron</td>\n",
       "      <td>John Knotts</td>\n",
       "      <td>e</td>\n",
       "      <td>l</td>\n",
       "    </tr>\n",
       "    <tr>\n",
       "      <th>2024-09-26 14:06:13.540838</th>\n",
       "      <td>3</td>\n",
       "      <td>Porto Alegre</td>\n",
       "      <td>Mariana Gomes</td>\n",
       "      <td>Fone de ouvido Sony</td>\n",
       "      <td>Tami Collier</td>\n",
       "      <td>e</td>\n",
       "      <td>l</td>\n",
       "    </tr>\n",
       "    <tr>\n",
       "      <th>2024-09-26 16:24:16.758059</th>\n",
       "      <td>4</td>\n",
       "      <td>São Paulo</td>\n",
       "      <td>Ana Oliveira</td>\n",
       "      <td>Tablet Apple Ipad</td>\n",
       "      <td>Fidelia Morris</td>\n",
       "      <td>e</td>\n",
       "      <td>l</td>\n",
       "    </tr>\n",
       "  </tbody>\n",
       "</table>\n",
       "</div>"
      ],
      "text/plain": [
       "                            id_compra           loja       vendedor  \\\n",
       "data                                                                  \n",
       "2024-09-26 11:54:14.832231          0  Florianópolis     Tiago Lima   \n",
       "2024-09-26 13:55:13.903941          1      São Paulo  Lucas Pereira   \n",
       "2024-09-26 13:59:09.749951          2  Florianópolis     Tiago Lima   \n",
       "2024-09-26 14:06:13.540838          3   Porto Alegre  Mariana Gomes   \n",
       "2024-09-26 16:24:16.758059          4      São Paulo   Ana Oliveira   \n",
       "\n",
       "                                              produto    cliente_nome  \\\n",
       "data                                                                    \n",
       "2024-09-26 11:54:14.832231  Smartphone Samsung Galaxy   John Strassel   \n",
       "2024-09-26 13:55:13.903941     Notebook Dell Inspiron  Robert Sellner   \n",
       "2024-09-26 13:59:09.749951     Notebook Dell Inspiron     John Knotts   \n",
       "2024-09-26 14:06:13.540838        Fone de ouvido Sony    Tami Collier   \n",
       "2024-09-26 16:24:16.758059          Tablet Apple Ipad  Fidelia Morris   \n",
       "\n",
       "                           cliente_genero forma_pagamaneto  \n",
       "data                                                        \n",
       "2024-09-26 11:54:14.832231              e                l  \n",
       "2024-09-26 13:55:13.903941              e                l  \n",
       "2024-09-26 13:59:09.749951              e                l  \n",
       "2024-09-26 14:06:13.540838              e                l  \n",
       "2024-09-26 16:24:16.758059              e                l  "
      ]
     },
     "execution_count": 18,
     "metadata": {},
     "output_type": "execute_result"
    }
   ],
   "source": [
    "df_compras.head()"
   ]
  },
  {
   "cell_type": "code",
   "execution_count": 19,
   "id": "4293ba8d",
   "metadata": {},
   "outputs": [
    {
     "ename": "NameError",
     "evalue": "name 'pasta_datasets' is not defined",
     "output_type": "error",
     "traceback": [
      "\u001b[0;31m---------------------------------------------------------------------------\u001b[0m",
      "\u001b[0;31mNameError\u001b[0m                                 Traceback (most recent call last)",
      "Cell \u001b[0;32mIn[19], line 2\u001b[0m\n\u001b[1;32m      1\u001b[0m \u001b[38;5;66;03m#Exportando Dataframes\u001b[39;00m\n\u001b[0;32m----> 2\u001b[0m df_compras\u001b[38;5;241m.\u001b[39mto_csv(pasta_datasets \u001b[38;5;241m/\u001b[39m \u001b[38;5;124m'\u001b[39m\u001b[38;5;124mcompras.csv\u001b[39m\u001b[38;5;124m'\u001b[39m, decimal\u001b[38;5;241m=\u001b[39m\u001b[38;5;124m'\u001b[39m\u001b[38;5;124m,\u001b[39m\u001b[38;5;124m'\u001b[39m, sep\u001b[38;5;241m=\u001b[39m\u001b[38;5;124m'\u001b[39m\u001b[38;5;124m;\u001b[39m\u001b[38;5;124m'\u001b[39m)\n\u001b[1;32m      3\u001b[0m df_lojas\u001b[38;5;241m.\u001b[39mto_csv(pasta_datasets \u001b[38;5;241m/\u001b[39m \u001b[38;5;124m'\u001b[39m\u001b[38;5;124mlojas.csv\u001b[39m\u001b[38;5;124m'\u001b[39m, decimal\u001b[38;5;241m=\u001b[39m\u001b[38;5;124m'\u001b[39m\u001b[38;5;124m,\u001b[39m\u001b[38;5;124m'\u001b[39m, sep\u001b[38;5;241m=\u001b[39m\u001b[38;5;124m'\u001b[39m\u001b[38;5;124m;\u001b[39m\u001b[38;5;124m'\u001b[39m)\n\u001b[1;32m      4\u001b[0m df_produtos\u001b[38;5;241m.\u001b[39mto_csv(pasta_datasets \u001b[38;5;241m/\u001b[39m \u001b[38;5;124m'\u001b[39m\u001b[38;5;124mprodutos.csv\u001b[39m\u001b[38;5;124m'\u001b[39m, decimal\u001b[38;5;241m=\u001b[39m\u001b[38;5;124m'\u001b[39m\u001b[38;5;124m,\u001b[39m\u001b[38;5;124m'\u001b[39m, sep\u001b[38;5;241m=\u001b[39m\u001b[38;5;124m'\u001b[39m\u001b[38;5;124m;\u001b[39m\u001b[38;5;124m'\u001b[39m)\n",
      "\u001b[0;31mNameError\u001b[0m: name 'pasta_datasets' is not defined"
     ]
    }
   ],
   "source": [
    "#Exportando Dataframes\n",
    "df_compras.to_csv(pasta_datasets / 'compras.csv', decimal=',', sep=';')\n",
    "df_lojas.to_csv(pasta_datasets / 'lojas.csv', decimal=',', sep=';')\n",
    "df_produtos.to_csv(pasta_datasets / 'produtos.csv', decimal=',', sep=';')"
   ]
  },
  {
   "cell_type": "code",
   "execution_count": null,
   "id": "50a0978f",
   "metadata": {},
   "outputs": [],
   "source": [
    "df_compras.to_excel(pasta_datasets / 'compras.xlsx')\n",
    "df_lojas.to_excel(pasta_datasets / 'lojas.xlsx')\n",
    "df_produtos.to_excel(pasta_datasets / 'produtos.xlsx')"
   ]
  }
 ],
 "metadata": {
  "kernelspec": {
   "display_name": "base",
   "language": "python",
   "name": "python3"
  },
  "language_info": {
   "codemirror_mode": {
    "name": "ipython",
    "version": 3
   },
   "file_extension": ".py",
   "mimetype": "text/x-python",
   "name": "python",
   "nbconvert_exporter": "python",
   "pygments_lexer": "ipython3",
   "version": "3.13.5"
  }
 },
 "nbformat": 4,
 "nbformat_minor": 5
}
