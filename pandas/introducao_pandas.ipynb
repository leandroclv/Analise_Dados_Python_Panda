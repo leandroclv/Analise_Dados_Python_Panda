{
 "cells": [
  {
   "cell_type": "code",
   "execution_count": 1,
   "id": "7ff0c170",
   "metadata": {},
   "outputs": [],
   "source": [
    "import pandas as pd"
   ]
  },
  {
   "cell_type": "code",
   "execution_count": 2,
   "id": "597b0bb1",
   "metadata": {},
   "outputs": [
    {
     "data": {
      "text/plain": [
       "0    10\n",
       "1    20\n",
       "2    30\n",
       "3    40\n",
       "4    50\n",
       "dtype: int64"
      ]
     },
     "execution_count": 2,
     "metadata": {},
     "output_type": "execute_result"
    }
   ],
   "source": [
    "dados = [10,20,30,40,50]\n",
    "serie = pd.Series(dados)\n",
    "serie"
   ]
  },
  {
   "cell_type": "code",
   "execution_count": 3,
   "id": "d585b214",
   "metadata": {},
   "outputs": [
    {
     "data": {
      "text/plain": [
       "pandas.core.series.Series"
      ]
     },
     "execution_count": 3,
     "metadata": {},
     "output_type": "execute_result"
    }
   ],
   "source": [
    "type(serie)"
   ]
  },
  {
   "cell_type": "code",
   "execution_count": 5,
   "id": "b37a7edd",
   "metadata": {},
   "outputs": [],
   "source": [
    "#Criando uma Series com dados de vendas mensais\n",
    "vendas_mensais = pd.Series(\n",
    "    [2000,2500,3000,2800,3500,4000,4500,5000,4800,5200,6000,7000],\n",
    "    index = ['jan', 'fev', 'mar', 'abr', 'mai', 'jun', 'jul', 'ago', 'set', 'out','nov','dez']\n",
    ")"
   ]
  },
  {
   "cell_type": "code",
   "execution_count": 6,
   "id": "825c4d95",
   "metadata": {},
   "outputs": [
    {
     "data": {
      "text/plain": [
       "jan    2000\n",
       "fev    2500\n",
       "mar    3000\n",
       "abr    2800\n",
       "mai    3500\n",
       "jun    4000\n",
       "jul    4500\n",
       "ago    5000\n",
       "set    4800\n",
       "out    5200\n",
       "nov    6000\n",
       "dez    7000\n",
       "dtype: int64"
      ]
     },
     "execution_count": 6,
     "metadata": {},
     "output_type": "execute_result"
    }
   ],
   "source": [
    "vendas_mensais"
   ]
  },
  {
   "cell_type": "code",
   "execution_count": 7,
   "id": "e89ffbae",
   "metadata": {},
   "outputs": [
    {
     "data": {
      "text/plain": [
       "np.float64(4191.666666666667)"
      ]
     },
     "execution_count": 7,
     "metadata": {},
     "output_type": "execute_result"
    }
   ],
   "source": [
    "#Calculando e exibir a média de vendas\n",
    "media_vendas = vendas_mensais.mean()\n",
    "media_vendas"
   ]
  },
  {
   "cell_type": "code",
   "execution_count": 9,
   "id": "68163a50",
   "metadata": {},
   "outputs": [
    {
     "data": {
      "text/plain": [
       "'dez'"
      ]
     },
     "execution_count": 9,
     "metadata": {},
     "output_type": "execute_result"
    }
   ],
   "source": [
    "#Identificar o mês com maior venda\n",
    "mes_maior_venda = vendas_mensais.idxmax()\n",
    "mes_maior_venda"
   ]
  },
  {
   "cell_type": "code",
   "execution_count": 10,
   "id": "0b4abc3e",
   "metadata": {},
   "outputs": [
    {
     "data": {
      "text/plain": [
       "jul    4500\n",
       "ago    5000\n",
       "set    4800\n",
       "out    5200\n",
       "nov    6000\n",
       "dez    7000\n",
       "dtype: int64"
      ]
     },
     "execution_count": 10,
     "metadata": {},
     "output_type": "execute_result"
    }
   ],
   "source": [
    "#Exibir as vendas acima da média\n",
    "vendas_acima_media = vendas_mensais[vendas_mensais > media_vendas]\n",
    "vendas_acima_media"
   ]
  },
  {
   "cell_type": "code",
   "execution_count": null,
   "id": "5013370c",
   "metadata": {},
   "outputs": [],
   "source": []
  }
 ],
 "metadata": {
  "kernelspec": {
   "display_name": "base",
   "language": "python",
   "name": "python3"
  },
  "language_info": {
   "codemirror_mode": {
    "name": "ipython",
    "version": 3
   },
   "file_extension": ".py",
   "mimetype": "text/x-python",
   "name": "python",
   "nbconvert_exporter": "python",
   "pygments_lexer": "ipython3",
   "version": "3.13.5"
  }
 },
 "nbformat": 4,
 "nbformat_minor": 5
}
