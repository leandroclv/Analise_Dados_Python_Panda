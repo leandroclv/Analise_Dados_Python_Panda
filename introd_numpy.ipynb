{
 "cells": [
  {
   "cell_type": "code",
   "execution_count": 1,
   "id": "4824536e",
   "metadata": {},
   "outputs": [],
   "source": [
    "import numpy as np"
   ]
  },
  {
   "cell_type": "code",
   "execution_count": 2,
   "id": "caf64a71",
   "metadata": {},
   "outputs": [
    {
     "data": {
      "text/plain": [
       "'1.19.5'"
      ]
     },
     "execution_count": 2,
     "metadata": {},
     "output_type": "execute_result"
    }
   ],
   "source": [
    "np.__version__"
   ]
  },
  {
   "cell_type": "code",
   "execution_count": 3,
   "id": "58845225",
   "metadata": {},
   "outputs": [],
   "source": [
    "arr = np.array([1,2,3,4,5])"
   ]
  },
  {
   "cell_type": "code",
   "execution_count": 4,
   "id": "54e14b87",
   "metadata": {},
   "outputs": [
    {
     "data": {
      "text/plain": [
       "array([1, 2, 3, 4, 5])"
      ]
     },
     "execution_count": 4,
     "metadata": {},
     "output_type": "execute_result"
    }
   ],
   "source": [
    "arr"
   ]
  },
  {
   "cell_type": "code",
   "execution_count": 5,
   "id": "1174ed63",
   "metadata": {},
   "outputs": [
    {
     "data": {
      "text/plain": [
       "numpy.ndarray"
      ]
     },
     "execution_count": 5,
     "metadata": {},
     "output_type": "execute_result"
    }
   ],
   "source": [
    "type(arr)"
   ]
  },
  {
   "cell_type": "code",
   "execution_count": 6,
   "id": "0668e642",
   "metadata": {},
   "outputs": [
    {
     "name": "stdout",
     "output_type": "stream",
     "text": [
      "array após somar 10 [11 12 13 14 15]\n"
     ]
    }
   ],
   "source": [
    "soma = arr + 10\n",
    "print(f'array após somar 10 {soma}')"
   ]
  },
  {
   "cell_type": "code",
   "execution_count": 7,
   "id": "11afb8dc",
   "metadata": {},
   "outputs": [
    {
     "name": "stdout",
     "output_type": "stream",
     "text": [
      "Array após multiplicar por 10: [ 2  4  6  8 10]\n"
     ]
    }
   ],
   "source": [
    "multi = arr * 2\n",
    "print(f'Array após multiplicar por 10: {multi}')"
   ]
  },
  {
   "cell_type": "code",
   "execution_count": 8,
   "id": "6d624200",
   "metadata": {},
   "outputs": [
    {
     "name": "stdout",
     "output_type": "stream",
     "text": [
      "A média do array: 3.0\n"
     ]
    }
   ],
   "source": [
    "media = np.mean(arr)\n",
    "print(f'A média do array: {media}')"
   ]
  },
  {
   "cell_type": "markdown",
   "id": "3d2096e8",
   "metadata": {},
   "source": [
    "##Dimensão"
   ]
  },
  {
   "cell_type": "code",
   "execution_count": 9,
   "id": "fb0980d2",
   "metadata": {},
   "outputs": [
    {
     "name": "stdout",
     "output_type": "stream",
     "text": [
      "1\n",
      "(5,)\n"
     ]
    },
    {
     "data": {
      "text/plain": [
       "array([1, 2, 3, 4, 5])"
      ]
     },
     "execution_count": 9,
     "metadata": {},
     "output_type": "execute_result"
    }
   ],
   "source": [
    "#Utilização - Lista de dados,como séries temporais ou coleções de valores\n",
    "array_1d = np.array([1,2,3,4,5])\n",
    "print(array_1d.ndim) #Número de dimensões\n",
    "print(array_1d.shape) #Formato do array\n",
    "array_1d"
   ]
  },
  {
   "cell_type": "code",
   "execution_count": 10,
   "id": "3f8e4153",
   "metadata": {},
   "outputs": [
    {
     "name": "stdout",
     "output_type": "stream",
     "text": [
      "2\n",
      "(2, 3)\n"
     ]
    },
    {
     "data": {
      "text/plain": [
       "array([[1, 2, 3],\n",
       "       [4, 5, 6]])"
      ]
     },
     "execution_count": 10,
     "metadata": {},
     "output_type": "execute_result"
    }
   ],
   "source": [
    "#Utilização - Matrizes, tabelas de dados, imagens em escala cinz\n",
    "array_2d = np.array ([[1,2,3], [4,5,6]])\n",
    "print(array_2d.ndim) \n",
    "print(array_2d.shape) \n",
    "array_2d"
   ]
  },
  {
   "cell_type": "code",
   "execution_count": 11,
   "id": "59826e9a",
   "metadata": {},
   "outputs": [
    {
     "name": "stdout",
     "output_type": "stream",
     "text": [
      "3\n",
      "(1, 4, 2)\n"
     ]
    },
    {
     "data": {
      "text/plain": [
       "array([[[1, 2],\n",
       "        [3, 4],\n",
       "        [5, 6],\n",
       "        [7, 8]]])"
      ]
     },
     "execution_count": 11,
     "metadata": {},
     "output_type": "execute_result"
    }
   ],
   "source": [
    "#Utilização- Imagens em cores (cada matriz representando um canal de cor, como RGB)\n",
    "array_3d = np.array([[[1,2], [3,4], [5,6], [7,8]]])\n",
    "print(array_3d.ndim) \n",
    "print(array_3d.shape)\n",
    "array_3d"
   ]
  },
  {
   "cell_type": "code",
   "execution_count": 12,
   "id": "ae2a6c48",
   "metadata": {},
   "outputs": [
    {
     "name": "stdout",
     "output_type": "stream",
     "text": [
      "4\n",
      "(2, 3, 4, 5)\n"
     ]
    },
    {
     "data": {
      "text/plain": [
       "array([[[[0., 0., 0., 0., 0.],\n",
       "         [0., 0., 0., 0., 0.],\n",
       "         [0., 0., 0., 0., 0.],\n",
       "         [0., 0., 0., 0., 0.]],\n",
       "\n",
       "        [[0., 0., 0., 0., 0.],\n",
       "         [0., 0., 0., 0., 0.],\n",
       "         [0., 0., 0., 0., 0.],\n",
       "         [0., 0., 0., 0., 0.]],\n",
       "\n",
       "        [[0., 0., 0., 0., 0.],\n",
       "         [0., 0., 0., 0., 0.],\n",
       "         [0., 0., 0., 0., 0.],\n",
       "         [0., 0., 0., 0., 0.]]],\n",
       "\n",
       "\n",
       "       [[[0., 0., 0., 0., 0.],\n",
       "         [0., 0., 0., 0., 0.],\n",
       "         [0., 0., 0., 0., 0.],\n",
       "         [0., 0., 0., 0., 0.]],\n",
       "\n",
       "        [[0., 0., 0., 0., 0.],\n",
       "         [0., 0., 0., 0., 0.],\n",
       "         [0., 0., 0., 0., 0.],\n",
       "         [0., 0., 0., 0., 0.]],\n",
       "\n",
       "        [[0., 0., 0., 0., 0.],\n",
       "         [0., 0., 0., 0., 0.],\n",
       "         [0., 0., 0., 0., 0.],\n",
       "         [0., 0., 0., 0., 0.]]]])"
      ]
     },
     "execution_count": 12,
     "metadata": {},
     "output_type": "execute_result"
    }
   ],
   "source": [
    "array_4d = np.zeros((2,3,4,5))\n",
    "print(array_4d.ndim)\n",
    "print(array_4d.shape) \n",
    "array_4d"
   ]
  },
  {
   "cell_type": "markdown",
   "id": "c4266427",
   "metadata": {},
   "source": [
    "##Indexação"
   ]
  },
  {
   "cell_type": "code",
   "execution_count": 13,
   "id": "478d478c",
   "metadata": {},
   "outputs": [
    {
     "name": "stdout",
     "output_type": "stream",
     "text": [
      "2\n",
      "(3, 3)\n"
     ]
    },
    {
     "data": {
      "text/plain": [
       "array([[10, 20, 30],\n",
       "       [40, 50, 60],\n",
       "       [70, 80, 90]])"
      ]
     },
     "execution_count": 13,
     "metadata": {},
     "output_type": "execute_result"
    }
   ],
   "source": [
    "array = np.array([[10, 20, 30], [40, 50, 60,], [70, 80, 90]])\n",
    "print(array.ndim)\n",
    "print(array.shape)\n",
    "array"
   ]
  },
  {
   "cell_type": "code",
   "execution_count": 14,
   "id": "bcdfba13",
   "metadata": {},
   "outputs": [
    {
     "data": {
      "text/plain": [
       "60"
      ]
     },
     "execution_count": 14,
     "metadata": {},
     "output_type": "execute_result"
    }
   ],
   "source": [
    "#Buscar elemento na linha 1 e coluna 1\n",
    "elemento = array[1,2]\n",
    "elemento"
   ]
  },
  {
   "cell_type": "code",
   "execution_count": 15,
   "id": "c01223a2",
   "metadata": {},
   "outputs": [
    {
     "data": {
      "text/plain": [
       "array([10, 20, 30])"
      ]
     },
     "execution_count": 15,
     "metadata": {},
     "output_type": "execute_result"
    }
   ],
   "source": [
    "#Pegar dados da primeira linha\n",
    "linha_0 = array[0]\n",
    "linha_0"
   ]
  },
  {
   "cell_type": "code",
   "execution_count": 16,
   "id": "aa61f363",
   "metadata": {},
   "outputs": [
    {
     "data": {
      "text/plain": [
       "array([20, 50, 80])"
      ]
     },
     "execution_count": 16,
     "metadata": {},
     "output_type": "execute_result"
    }
   ],
   "source": [
    "#Acessando a coluna 1\n",
    "coluna_1 = array[:,1]\n",
    "coluna_1"
   ]
  },
  {
   "cell_type": "code",
   "execution_count": 17,
   "id": "2c3dcd25",
   "metadata": {},
   "outputs": [
    {
     "data": {
      "text/plain": [
       "array([[20, 30],\n",
       "       [50, 60]])"
      ]
     },
     "execution_count": 17,
     "metadata": {},
     "output_type": "execute_result"
    }
   ],
   "source": [
    "#Fatiando para obter  um subarray\n",
    "#Linha 0 a 1, coluna 1 a 2  - pois o último número é excludente\n",
    "subarray = array[0:2, 1:3]\n",
    "subarray"
   ]
  },
  {
   "cell_type": "code",
   "execution_count": 18,
   "id": "a7a7b680",
   "metadata": {},
   "outputs": [
    {
     "data": {
      "text/plain": [
       "array([[False, False, False],\n",
       "       [False, False,  True],\n",
       "       [ True,  True,  True]])"
      ]
     },
     "execution_count": 18,
     "metadata": {},
     "output_type": "execute_result"
    }
   ],
   "source": [
    "mascara = array > 50\n",
    "mascara"
   ]
  },
  {
   "cell_type": "code",
   "execution_count": 19,
   "id": "3b0f1461",
   "metadata": {},
   "outputs": [
    {
     "data": {
      "text/plain": [
       "array([60, 70, 80, 90])"
      ]
     },
     "execution_count": 19,
     "metadata": {},
     "output_type": "execute_result"
    }
   ],
   "source": [
    "elementos_maiores_que_50 = array[mascara]\n",
    "elementos_maiores_que_50"
   ]
  },
  {
   "cell_type": "code",
   "execution_count": 20,
   "id": "5236f48b",
   "metadata": {},
   "outputs": [
    {
     "data": {
      "text/plain": [
       "array([[ 10,  20,  30],\n",
       "       [ 40, 100,  60],\n",
       "       [ 70,  80,  90]])"
      ]
     },
     "execution_count": 20,
     "metadata": {},
     "output_type": "execute_result"
    }
   ],
   "source": [
    "#Modiificando elemento na linha 1, coluna 1\n",
    "array[1,1] = 100\n",
    "array"
   ]
  },
  {
   "cell_type": "markdown",
   "id": "12f8b8ff",
   "metadata": {},
   "source": [
    "##Fatiamento"
   ]
  },
  {
   "cell_type": "code",
   "execution_count": 21,
   "id": "0f156a9c",
   "metadata": {},
   "outputs": [
    {
     "data": {
      "text/plain": [
       "array([[ 1,  2,  3,  4,  5],\n",
       "       [ 6,  7,  8,  9, 10],\n",
       "       [11, 12, 13, 14, 15],\n",
       "       [16, 17, 18, 19, 20]])"
      ]
     },
     "execution_count": 21,
     "metadata": {},
     "output_type": "execute_result"
    }
   ],
   "source": [
    "array = np.array([[1,2,3,4,5],[6,7,8,9,10], [11,12,13,14,15], [16,17,18,19,20]])\n",
    "array"
   ]
  },
  {
   "cell_type": "code",
   "execution_count": 22,
   "id": "832b4d08",
   "metadata": {},
   "outputs": [
    {
     "data": {
      "text/plain": [
       "array([[ 1,  2,  3,  4,  5],\n",
       "       [ 6,  7,  8,  9, 10]])"
      ]
     },
     "execution_count": 22,
     "metadata": {},
     "output_type": "execute_result"
    }
   ],
   "source": [
    "#Fatiando as duas primeiras linhas (Lembrando: O último é exclusivo e [linhas, colunas])\n",
    "fatiando_linhas = array[0:2, :]\n",
    "fatiando_linhas"
   ]
  },
  {
   "cell_type": "code",
   "execution_count": 23,
   "id": "22260f3b",
   "metadata": {},
   "outputs": [
    {
     "data": {
      "text/plain": [
       "array([[ 1,  2,  3],\n",
       "       [ 6,  7,  8],\n",
       "       [11, 12, 13],\n",
       "       [16, 17, 18]])"
      ]
     },
     "execution_count": 23,
     "metadata": {},
     "output_type": "execute_result"
    }
   ],
   "source": [
    "#Fatiando as três primeiras colunas (Lembrando: O último é exclusivo e [linhas, colunas])\n",
    "fatiando_colunas = array[:, 0:3] \n",
    "fatiando_colunas"
   ]
  },
  {
   "cell_type": "code",
   "execution_count": 24,
   "id": "f1b5bdb9",
   "metadata": {},
   "outputs": [
    {
     "data": {
      "text/plain": [
       "array([[ 7,  8],\n",
       "       [12, 13]])"
      ]
     },
     "execution_count": 24,
     "metadata": {},
     "output_type": "execute_result"
    }
   ],
   "source": [
    "subarray_central = array[1:3, 1:3]\n",
    "subarray_central"
   ]
  },
  {
   "cell_type": "code",
   "execution_count": 25,
   "id": "c418683d",
   "metadata": {},
   "outputs": [
    {
     "data": {
      "text/plain": [
       "array([[14, 15],\n",
       "       [19, 20]])"
      ]
     },
     "execution_count": 25,
     "metadata": {},
     "output_type": "execute_result"
    }
   ],
   "source": [
    "subarray_lateral = array[2:4, 3:5]\n",
    "subarray_lateral"
   ]
  },
  {
   "cell_type": "code",
   "execution_count": 26,
   "id": "36d54185",
   "metadata": {},
   "outputs": [
    {
     "data": {
      "text/plain": [
       "array([[  1,   2,   3,   4,   5],\n",
       "       [  6,  99, 100,   9,  10],\n",
       "       [ 11, 101, 102,  14,  15],\n",
       "       [ 16,  17,  18,  19,  20]])"
      ]
     },
     "execution_count": 26,
     "metadata": {},
     "output_type": "execute_result"
    }
   ],
   "source": [
    "#Modificar um subarray\n",
    "array[1:3, 1: 3] = [[99,100], [101,102]]\n",
    "array"
   ]
  },
  {
   "cell_type": "code",
   "execution_count": 27,
   "id": "5d2e13a9",
   "metadata": {},
   "outputs": [
    {
     "data": {
      "text/plain": [
       "array([1, 2, 3, 4, 5])"
      ]
     },
     "execution_count": 27,
     "metadata": {},
     "output_type": "execute_result"
    }
   ],
   "source": [
    "array = np.array([1,2,3,4,5])\n",
    "array"
   ]
  },
  {
   "cell_type": "code",
   "execution_count": null,
   "id": "958a7ac5",
   "metadata": {},
   "outputs": [
    {
     "data": {
      "text/plain": [
       "array([11, 12, 13, 14, 15])"
      ]
     },
     "execution_count": 28,
     "metadata": {},
     "output_type": "execute_result"
    }
   ],
   "source": [
    "#1-Adição\n",
    "soma = np.add(array, 10) #(matriz, o quanto vai fazer o calculo)\n",
    "soma"
   ]
  },
  {
   "cell_type": "code",
   "execution_count": null,
   "id": "02493794",
   "metadata": {},
   "outputs": [
    {
     "data": {
      "text/plain": [
       "array([-4, -3, -2, -1,  0])"
      ]
     },
     "execution_count": 29,
     "metadata": {},
     "output_type": "execute_result"
    }
   ],
   "source": [
    "#2 - Subtração\n",
    "subtr = np.subtract(array, 5)#(matriz, o quanto vai fazer o calculo)\n",
    "subtr"
   ]
  },
  {
   "cell_type": "code",
   "execution_count": null,
   "id": "683fba63",
   "metadata": {},
   "outputs": [
    {
     "data": {
      "text/plain": [
       "array([ 2,  4,  6,  8, 10])"
      ]
     },
     "execution_count": 30,
     "metadata": {},
     "output_type": "execute_result"
    }
   ],
   "source": [
    "#3 - Multiplicação\n",
    "produto = np.multiply(array, 2)#(matriz, o quanto vai fazer o calculo)\n",
    "produto"
   ]
  },
  {
   "cell_type": "code",
   "execution_count": 31,
   "id": "a249de6f",
   "metadata": {},
   "outputs": [
    {
     "data": {
      "text/plain": [
       "array([0.5, 1. , 1.5, 2. , 2.5])"
      ]
     },
     "execution_count": 31,
     "metadata": {},
     "output_type": "execute_result"
    }
   ],
   "source": [
    "#4 - Divisão\n",
    "divisao = np.divide(array, 2)\n",
    "divisao"
   ]
  },
  {
   "cell_type": "code",
   "execution_count": 32,
   "id": "4e10ddb4",
   "metadata": {},
   "outputs": [
    {
     "data": {
      "text/plain": [
       "array([ 0.84147098,  0.90929743,  0.14112001, -0.7568025 , -0.95892427])"
      ]
     },
     "execution_count": 32,
     "metadata": {},
     "output_type": "execute_result"
    }
   ],
   "source": [
    "#5 - Funções trigonométricas\n",
    "seno = np.sin(array)\n",
    "seno"
   ]
  },
  {
   "cell_type": "code",
   "execution_count": 33,
   "id": "03b51bea",
   "metadata": {},
   "outputs": [
    {
     "data": {
      "text/plain": [
       "array([ 0.54030231, -0.41614684, -0.9899925 , -0.65364362,  0.28366219])"
      ]
     },
     "execution_count": 33,
     "metadata": {},
     "output_type": "execute_result"
    }
   ],
   "source": [
    "cosseno = np.cos(array)\n",
    "cosseno"
   ]
  },
  {
   "cell_type": "code",
   "execution_count": 34,
   "id": "b1ba51c3",
   "metadata": {},
   "outputs": [
    {
     "data": {
      "text/plain": [
       "3.0"
      ]
     },
     "execution_count": 34,
     "metadata": {},
     "output_type": "execute_result"
    }
   ],
   "source": [
    "#6 - Funções estatísticas\n",
    "media = np.mean(array)\n",
    "media"
   ]
  },
  {
   "cell_type": "code",
   "execution_count": 35,
   "id": "da4936dd",
   "metadata": {},
   "outputs": [
    {
     "data": {
      "text/plain": [
       "1.4142135623730951"
      ]
     },
     "execution_count": 35,
     "metadata": {},
     "output_type": "execute_result"
    }
   ],
   "source": [
    "desvio_padrao = np.std(array)\n",
    "desvio_padrao"
   ]
  },
  {
   "cell_type": "code",
   "execution_count": 36,
   "id": "aa1e376d",
   "metadata": {},
   "outputs": [
    {
     "data": {
      "text/plain": [
       "array([False, False, False,  True,  True])"
      ]
     },
     "execution_count": 36,
     "metadata": {},
     "output_type": "execute_result"
    }
   ],
   "source": [
    "#7 - Funções de comparação\n",
    "comparacao_maior_que_3 = array > 3\n",
    "comparacao_maior_que_3"
   ]
  },
  {
   "cell_type": "code",
   "execution_count": 37,
   "id": "2214605c",
   "metadata": {},
   "outputs": [
    {
     "data": {
      "text/plain": [
       "array([ 2.        ,  5.41421356, 10.73205081, 18.        , 27.23606798])"
      ]
     },
     "execution_count": 37,
     "metadata": {},
     "output_type": "execute_result"
    }
   ],
   "source": [
    "#8 - Combinando funções\n",
    "resultado = np.sqrt(array) + np.power(array, 2)\n",
    "resultado"
   ]
  },
  {
   "cell_type": "code",
   "execution_count": 38,
   "id": "03ed6197",
   "metadata": {},
   "outputs": [
    {
     "data": {
      "text/plain": [
       "array([  2.71828183,   7.3890561 ,  20.08553692,  54.59815003,\n",
       "       148.4131591 ])"
      ]
     },
     "execution_count": 38,
     "metadata": {},
     "output_type": "execute_result"
    }
   ],
   "source": [
    "#9 - Funções exponenciais\n",
    "exponencial = np.exp(array)\n",
    "exponencial"
   ]
  },
  {
   "cell_type": "code",
   "execution_count": 39,
   "id": "71db5b58",
   "metadata": {},
   "outputs": [
    {
     "data": {
      "text/plain": [
       "array([0.        , 0.69314718, 1.09861229, 1.38629436, 1.60943791])"
      ]
     },
     "execution_count": 39,
     "metadata": {},
     "output_type": "execute_result"
    }
   ],
   "source": [
    "#10 - Função de logarítmo\n",
    "logaritmo = np.log(array)\n",
    "logaritmo"
   ]
  },
  {
   "cell_type": "code",
   "execution_count": 40,
   "id": "12849ba6",
   "metadata": {},
   "outputs": [
    {
     "data": {
      "text/plain": [
       "array([0., 1., 2., 2., 2.])"
      ]
     },
     "execution_count": 40,
     "metadata": {},
     "output_type": "execute_result"
    }
   ],
   "source": [
    "#11 - Funções de arredondamento\n",
    "arredondado = np.round(array / 2)\n",
    "arredondado"
   ]
  },
  {
   "cell_type": "code",
   "execution_count": 41,
   "id": "2580b845",
   "metadata": {},
   "outputs": [
    {
     "data": {
      "text/plain": [
       "array([  1,   8,  27,  64, 125])"
      ]
     },
     "execution_count": 41,
     "metadata": {},
     "output_type": "execute_result"
    }
   ],
   "source": [
    "#12 - Função de potência\n",
    "potencia = np.power(array, 3)\n",
    "potencia"
   ]
  },
  {
   "cell_type": "code",
   "execution_count": 42,
   "id": "dcae8cec",
   "metadata": {},
   "outputs": [],
   "source": [
    "#Copy - Uma nova cópia do array é criada em memória. Isso significa que as 2 matrizes(original e a cópia) são independentes uma da outra\n",
    "#View - Não é criada em uma nova cópia na memória. A view compartilha os mesmos dados que o array original."
   ]
  },
  {
   "cell_type": "code",
   "execution_count": 43,
   "id": "21760f5d",
   "metadata": {},
   "outputs": [
    {
     "data": {
      "text/plain": [
       "array([[1, 2, 3],\n",
       "       [4, 5, 6],\n",
       "       [7, 8, 9]])"
      ]
     },
     "execution_count": 43,
     "metadata": {},
     "output_type": "execute_result"
    }
   ],
   "source": [
    "array_original = np.array([[1,2,3], [4,5,6], [7,8,9]])\n",
    "array_original"
   ]
  },
  {
   "cell_type": "code",
   "execution_count": 44,
   "id": "13f13962",
   "metadata": {},
   "outputs": [
    {
     "data": {
      "text/plain": [
       "array([[5, 6],\n",
       "       [8, 9]])"
      ]
     },
     "execution_count": 44,
     "metadata": {},
     "output_type": "execute_result"
    }
   ],
   "source": [
    "#1 - cópia Rosa (view)\n",
    "array_view = array_original[1:, 1:]\n",
    "array_view"
   ]
  },
  {
   "cell_type": "code",
   "execution_count": 45,
   "id": "70414add",
   "metadata": {},
   "outputs": [
    {
     "data": {
      "text/plain": [
       "array([[99,  6],\n",
       "       [ 8,  9]])"
      ]
     },
     "execution_count": 45,
     "metadata": {},
     "output_type": "execute_result"
    }
   ],
   "source": [
    "array_view[0,0] = 99\n",
    "array_view"
   ]
  },
  {
   "cell_type": "code",
   "execution_count": 46,
   "id": "19223d29",
   "metadata": {},
   "outputs": [
    {
     "data": {
      "text/plain": [
       "array([[ 1,  2,  3],\n",
       "       [ 4, 99,  6],\n",
       "       [ 7,  8,  9]])"
      ]
     },
     "execution_count": 46,
     "metadata": {},
     "output_type": "execute_result"
    }
   ],
   "source": [
    "array_original"
   ]
  },
  {
   "cell_type": "code",
   "execution_count": 47,
   "id": "711fbf6c",
   "metadata": {},
   "outputs": [
    {
     "data": {
      "text/plain": [
       "array([[ 1,  2,  3],\n",
       "       [ 4, 99,  6],\n",
       "       [ 7,  8,  9]])"
      ]
     },
     "execution_count": 47,
     "metadata": {},
     "output_type": "execute_result"
    }
   ],
   "source": [
    "#2 - cópia profunda (copy)\n",
    "array_copia = array_original.copy()\n",
    "array_copia"
   ]
  },
  {
   "cell_type": "code",
   "execution_count": 48,
   "id": "5825a148",
   "metadata": {},
   "outputs": [
    {
     "data": {
      "text/plain": [
       "array([[100,   2,   3],\n",
       "       [  4,  99,   6],\n",
       "       [  7,   8,   9]])"
      ]
     },
     "execution_count": 48,
     "metadata": {},
     "output_type": "execute_result"
    }
   ],
   "source": [
    "array_copia[0,0] = 100\n",
    "array_copia"
   ]
  },
  {
   "cell_type": "code",
   "execution_count": 49,
   "id": "fb65dfb3",
   "metadata": {},
   "outputs": [
    {
     "data": {
      "text/plain": [
       "array([[ 1,  2,  3],\n",
       "       [ 4, 99,  6],\n",
       "       [ 7,  8,  9]])"
      ]
     },
     "execution_count": 49,
     "metadata": {},
     "output_type": "execute_result"
    }
   ],
   "source": [
    "array_original"
   ]
  },
  {
   "cell_type": "code",
   "execution_count": 50,
   "id": "14d2d2cd",
   "metadata": {},
   "outputs": [
    {
     "data": {
      "text/plain": [
       "array([ 1,  2,  3,  4,  5,  6,  7,  8,  9, 10, 11, 12])"
      ]
     },
     "execution_count": 50,
     "metadata": {},
     "output_type": "execute_result"
    }
   ],
   "source": [
    "#Reshape\n",
    "array_1d = np.array([1,2,3,4,5,6,7,8,9,10,11,12])\n",
    "array_1d"
   ]
  },
  {
   "cell_type": "code",
   "execution_count": 51,
   "id": "24aa7da0",
   "metadata": {},
   "outputs": [
    {
     "data": {
      "text/plain": [
       "array([[ 1,  2,  3,  4],\n",
       "       [ 5,  6,  7,  8],\n",
       "       [ 9, 10, 11, 12]])"
      ]
     },
     "execution_count": 51,
     "metadata": {},
     "output_type": "execute_result"
    }
   ],
   "source": [
    "#Usando reshape para criar um array 2D de 3x4\n",
    "array_2d = array_1d.reshape(3,4)\n",
    "array_2d"
   ]
  },
  {
   "cell_type": "code",
   "execution_count": 52,
   "id": "6fefbafc",
   "metadata": {},
   "outputs": [
    {
     "data": {
      "text/plain": [
       "array([ 0,  1,  2,  3,  4,  5,  6,  7,  8,  9, 10, 11, 12, 13, 14, 15, 16,\n",
       "       17, 18, 19, 20, 21, 22, 23, 24, 25, 26, 27, 28, 29, 30, 31, 32, 33,\n",
       "       34, 35, 36, 37, 38, 39, 40, 41, 42, 43, 44, 45, 46, 47, 48, 49, 50,\n",
       "       51, 52, 53, 54, 55, 56, 57, 58, 59, 60, 61, 62, 63])"
      ]
     },
     "execution_count": 52,
     "metadata": {},
     "output_type": "execute_result"
    }
   ],
   "source": [
    "#Simulando uma imagem de 8x8 (64 pixels) como um array 1d\n",
    "pixels = np.arange(64)\n",
    "pixels"
   ]
  },
  {
   "cell_type": "code",
   "execution_count": 53,
   "id": "29558de3",
   "metadata": {},
   "outputs": [
    {
     "data": {
      "text/plain": [
       "array([[ 0,  1,  2,  3,  4,  5,  6,  7],\n",
       "       [ 8,  9, 10, 11, 12, 13, 14, 15],\n",
       "       [16, 17, 18, 19, 20, 21, 22, 23],\n",
       "       [24, 25, 26, 27, 28, 29, 30, 31],\n",
       "       [32, 33, 34, 35, 36, 37, 38, 39],\n",
       "       [40, 41, 42, 43, 44, 45, 46, 47],\n",
       "       [48, 49, 50, 51, 52, 53, 54, 55],\n",
       "       [56, 57, 58, 59, 60, 61, 62, 63]])"
      ]
     },
     "execution_count": 53,
     "metadata": {},
     "output_type": "execute_result"
    }
   ],
   "source": [
    "#Usando reshape para criar uma matriz 2d de 8x8\n",
    "imagem = pixels.reshape(8,8)\n",
    "imagem"
   ]
  },
  {
   "cell_type": "code",
   "execution_count": 54,
   "id": "1ac0f4e8",
   "metadata": {},
   "outputs": [
    {
     "data": {
      "text/plain": [
       "array([[63, 62, 61, 60, 59, 58, 57, 56],\n",
       "       [55, 54, 53, 52, 51, 50, 49, 48],\n",
       "       [47, 46, 45, 44, 43, 42, 41, 40],\n",
       "       [39, 38, 37, 36, 35, 34, 33, 32],\n",
       "       [31, 30, 29, 28, 27, 26, 25, 24],\n",
       "       [23, 22, 21, 20, 19, 18, 17, 16],\n",
       "       [15, 14, 13, 12, 11, 10,  9,  8],\n",
       "       [ 7,  6,  5,  4,  3,  2,  1,  0]])"
      ]
     },
     "execution_count": 54,
     "metadata": {},
     "output_type": "execute_result"
    }
   ],
   "source": [
    "#Aplicando um filtro simples (invertendo os pixels)\n",
    "imagem_invertida = 63 - imagem\n",
    "imagem_invertida"
   ]
  },
  {
   "cell_type": "code",
   "execution_count": null,
   "id": "1868d874",
   "metadata": {},
   "outputs": [],
   "source": []
  }
 ],
 "metadata": {
  "kernelspec": {
   "display_name": "base",
   "language": "python",
   "name": "python3"
  },
  "language_info": {
   "codemirror_mode": {
    "name": "ipython",
    "version": 3
   },
   "file_extension": ".py",
   "mimetype": "text/x-python",
   "name": "python",
   "nbconvert_exporter": "python",
   "pygments_lexer": "ipython3",
   "version": "3.6.5"
  }
 },
 "nbformat": 4,
 "nbformat_minor": 5
}
